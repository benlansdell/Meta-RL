{
 "cells": [
  {
   "cell_type": "markdown",
   "metadata": {},
   "source": [
    "## Egocentric agent learning\n",
    "\n",
    "Here the agent must combine information from what it gathers from observation and action to solve the task.\n",
    "\n",
    "Its action space is 'ego centric' thus it must also learn how to make use of the information it gathers. "
   ]
  },
  {
   "cell_type": "markdown",
   "metadata": {},
   "source": [
    "## Imports and setup"
   ]
  },
  {
   "cell_type": "code",
   "execution_count": 1,
   "metadata": {},
   "outputs": [],
   "source": [
    "%matplotlib inline\n",
    "import os\n",
    "import incense\n",
    "from incense import ExperimentLoader\n",
    "import matplotlib.pyplot as plt\n",
    "import numpy as np\n",
    "\n",
    "import seaborn as sns\n",
    "import pandas as pd\n",
    "\n",
    "#name is main_visual\n",
    "\n",
    "def get_mongo_uri():\n",
    "    in_devcontainer = os.environ.get(\"TERM_PROGRAM\") == \"vscode\"\n",
    "    if in_devcontainer:\n",
    "        return \"mongodb://mongo:27017\"\n",
    "    else:\n",
    "        return None\n",
    "    \n",
    "loader = ExperimentLoader(mongo_uri=get_mongo_uri(), db_name='sacred')"
   ]
  },
  {
   "cell_type": "markdown",
   "metadata": {},
   "source": [
    "## Load experiments"
   ]
  },
  {
   "cell_type": "code",
   "execution_count": 7,
   "metadata": {},
   "outputs": [],
   "source": [
    "# Sort by name\n",
    "\n",
    "query = {\"$and\": [{\"config.env\": \"steplights\"}, {\"config.dev\": True}, {\"config.name\": \"main_ego\"}]}\n",
    "steplights_set = loader.find(query)\n",
    "\n",
    "#query = {\"$and\": [{\"config.env\": \"pushbutton\"}, {\"config.dev\": True}, {\"config.name\": \"main_ego\"}]}\n",
    "#pushbutton_set = loader.find(query)\n",
    "\n",
    "#query = {\"$and\": [{\"config.env\": \"pushbox\"}, {\"config.dev\": True}, {\"config.name\": \"main_ego\"}]}\n",
    "#pushbox_set = loader.find(query)"
   ]
  },
  {
   "cell_type": "code",
   "execution_count": 5,
   "metadata": {},
   "outputs": [
    {
     "ename": "IndexError",
     "evalue": "list index out of range",
     "output_type": "error",
     "traceback": [
      "\u001b[0;31m---------------------------------------------------------------------------\u001b[0m",
      "\u001b[0;31mIndexError\u001b[0m                                Traceback (most recent call last)",
      "\u001b[0;32m<ipython-input-5-53f4e45322bb>\u001b[0m in \u001b[0;36m<module>\u001b[0;34m\u001b[0m\n\u001b[0;32m----> 1\u001b[0;31m \u001b[0mT\u001b[0m \u001b[0;34m=\u001b[0m \u001b[0mint\u001b[0m\u001b[0;34m(\u001b[0m\u001b[0msimple_example_confounded_set\u001b[0m\u001b[0;34m[\u001b[0m\u001b[0;36m0\u001b[0m\u001b[0;34m]\u001b[0m\u001b[0;34m.\u001b[0m\u001b[0mconfig\u001b[0m\u001b[0;34m.\u001b[0m\u001b[0mepochs\u001b[0m\u001b[0;34m/\u001b[0m\u001b[0;36m50\u001b[0m\u001b[0;34m)\u001b[0m\u001b[0;34m-\u001b[0m\u001b[0;36m1\u001b[0m\u001b[0;34m\u001b[0m\u001b[0;34m\u001b[0m\u001b[0m\n\u001b[0m\u001b[1;32m      2\u001b[0m \u001b[0mmean_reward_conf\u001b[0m \u001b[0;34m=\u001b[0m \u001b[0mnp\u001b[0m\u001b[0;34m.\u001b[0m\u001b[0mzeros\u001b[0m\u001b[0;34m(\u001b[0m\u001b[0;34m(\u001b[0m\u001b[0mlen\u001b[0m\u001b[0;34m(\u001b[0m\u001b[0msimple_example_confounded_set\u001b[0m\u001b[0;34m)\u001b[0m\u001b[0;34m,\u001b[0m \u001b[0mT\u001b[0m\u001b[0;34m)\u001b[0m\u001b[0;34m)\u001b[0m\u001b[0;34m\u001b[0m\u001b[0;34m\u001b[0m\u001b[0m\n\u001b[1;32m      3\u001b[0m \u001b[0;32mfor\u001b[0m \u001b[0midx\u001b[0m\u001b[0;34m,\u001b[0m\u001b[0mexp\u001b[0m \u001b[0;32min\u001b[0m \u001b[0menumerate\u001b[0m\u001b[0;34m(\u001b[0m\u001b[0msimple_example_confounded_set\u001b[0m\u001b[0;34m)\u001b[0m\u001b[0;34m:\u001b[0m\u001b[0;34m\u001b[0m\u001b[0;34m\u001b[0m\u001b[0m\n\u001b[1;32m      4\u001b[0m     \u001b[0mmean_reward_conf\u001b[0m\u001b[0;34m[\u001b[0m\u001b[0midx\u001b[0m\u001b[0;34m]\u001b[0m \u001b[0;34m=\u001b[0m \u001b[0mexp\u001b[0m\u001b[0;34m.\u001b[0m\u001b[0mmetrics\u001b[0m\u001b[0;34m[\u001b[0m\u001b[0;34m'training.mean_reward'\u001b[0m\u001b[0;34m]\u001b[0m\u001b[0;34m\u001b[0m\u001b[0;34m\u001b[0m\u001b[0m\n",
      "\u001b[0;32m~/conda-envs/tfnightly/lib/python3.6/collections/__init__.py\u001b[0m in \u001b[0;36m__getitem__\u001b[0;34m(self, i)\u001b[0m\n\u001b[1;32m   1048\u001b[0m     \u001b[0;32mdef\u001b[0m \u001b[0m__contains__\u001b[0m\u001b[0;34m(\u001b[0m\u001b[0mself\u001b[0m\u001b[0;34m,\u001b[0m \u001b[0mitem\u001b[0m\u001b[0;34m)\u001b[0m\u001b[0;34m:\u001b[0m \u001b[0;32mreturn\u001b[0m \u001b[0mitem\u001b[0m \u001b[0;32min\u001b[0m \u001b[0mself\u001b[0m\u001b[0;34m.\u001b[0m\u001b[0mdata\u001b[0m\u001b[0;34m\u001b[0m\u001b[0;34m\u001b[0m\u001b[0m\n\u001b[1;32m   1049\u001b[0m     \u001b[0;32mdef\u001b[0m \u001b[0m__len__\u001b[0m\u001b[0;34m(\u001b[0m\u001b[0mself\u001b[0m\u001b[0;34m)\u001b[0m\u001b[0;34m:\u001b[0m \u001b[0;32mreturn\u001b[0m \u001b[0mlen\u001b[0m\u001b[0;34m(\u001b[0m\u001b[0mself\u001b[0m\u001b[0;34m.\u001b[0m\u001b[0mdata\u001b[0m\u001b[0;34m)\u001b[0m\u001b[0;34m\u001b[0m\u001b[0;34m\u001b[0m\u001b[0m\n\u001b[0;32m-> 1050\u001b[0;31m     \u001b[0;32mdef\u001b[0m \u001b[0m__getitem__\u001b[0m\u001b[0;34m(\u001b[0m\u001b[0mself\u001b[0m\u001b[0;34m,\u001b[0m \u001b[0mi\u001b[0m\u001b[0;34m)\u001b[0m\u001b[0;34m:\u001b[0m \u001b[0;32mreturn\u001b[0m \u001b[0mself\u001b[0m\u001b[0;34m.\u001b[0m\u001b[0mdata\u001b[0m\u001b[0;34m[\u001b[0m\u001b[0mi\u001b[0m\u001b[0;34m]\u001b[0m\u001b[0;34m\u001b[0m\u001b[0;34m\u001b[0m\u001b[0m\n\u001b[0m\u001b[1;32m   1051\u001b[0m     \u001b[0;32mdef\u001b[0m \u001b[0m__setitem__\u001b[0m\u001b[0;34m(\u001b[0m\u001b[0mself\u001b[0m\u001b[0;34m,\u001b[0m \u001b[0mi\u001b[0m\u001b[0;34m,\u001b[0m \u001b[0mitem\u001b[0m\u001b[0;34m)\u001b[0m\u001b[0;34m:\u001b[0m \u001b[0mself\u001b[0m\u001b[0;34m.\u001b[0m\u001b[0mdata\u001b[0m\u001b[0;34m[\u001b[0m\u001b[0mi\u001b[0m\u001b[0;34m]\u001b[0m \u001b[0;34m=\u001b[0m \u001b[0mitem\u001b[0m\u001b[0;34m\u001b[0m\u001b[0;34m\u001b[0m\u001b[0m\n\u001b[1;32m   1052\u001b[0m     \u001b[0;32mdef\u001b[0m \u001b[0m__delitem__\u001b[0m\u001b[0;34m(\u001b[0m\u001b[0mself\u001b[0m\u001b[0;34m,\u001b[0m \u001b[0mi\u001b[0m\u001b[0;34m)\u001b[0m\u001b[0;34m:\u001b[0m \u001b[0;32mdel\u001b[0m \u001b[0mself\u001b[0m\u001b[0;34m.\u001b[0m\u001b[0mdata\u001b[0m\u001b[0;34m[\u001b[0m\u001b[0mi\u001b[0m\u001b[0;34m]\u001b[0m\u001b[0;34m\u001b[0m\u001b[0;34m\u001b[0m\u001b[0m\n",
      "\u001b[0;31mIndexError\u001b[0m: list index out of range"
     ]
    }
   ],
   "source": [
    "T = int(simple_example_confounded_set[0].config.epochs/50)-1\n",
    "mean_reward_conf = np.zeros((len(simple_example_confounded_set), T))\n",
    "for idx,exp in enumerate(simple_example_confounded_set):\n",
    "    mean_reward_conf[idx] = exp.metrics['training.mean_reward']"
   ]
  },
  {
   "cell_type": "code",
   "execution_count": 8,
   "metadata": {},
   "outputs": [
    {
     "data": {
      "text/plain": [
       "QuerySet([Experiment(id=168, name=main_ego), Experiment(id=169, name=main_ego), Experiment(id=171, name=main_ego), Experiment(id=172, name=main_ego), Experiment(id=173, name=main_ego), Experiment(id=174, name=main_ego), Experiment(id=175, name=main_ego), Experiment(id=177, name=main_ego), Experiment(id=178, name=main_ego), Experiment(id=184, name=main_ego), Experiment(id=187, name=main_ego), Experiment(id=189, name=main_ego)])"
      ]
     },
     "execution_count": 8,
     "metadata": {},
     "output_type": "execute_result"
    }
   ],
   "source": [
    "steplights_set"
   ]
  },
  {
   "cell_type": "code",
   "execution_count": 15,
   "metadata": {},
   "outputs": [],
   "source": [
    "#Get metrics\n",
    "T = int(steplights_set[-1].config.epochs/1e4)-1\n",
    "\n",
    "#mean_reward_conf = np.zeros((len(steplights_set), T))\n",
    "#for idx,exp in enumerate(simple_example_confounded_set):\n",
    "#    mean_reward_conf[idx] = exp.metrics['training.mean_reward']\n",
    "    \n",
    "#T = int(simple_example_obsint_set[0].config.epochs/50)\n",
    "#mean_reward_obsint = np.zeros((len(simple_example_obsint_set), T))\n",
    "#for idx,exp in enumerate(simple_example_obsint_set):\n",
    "#    L = len(exp.metrics['training.mean_reward'])\n",
    "#    mean_reward_obsint[idx,:L] = exp.metrics['training.mean_reward']\n",
    "        \n",
    "#T = int(simple_example_obs_set[0].config.epochs/50)\n",
    "#mean_reward_obs = np.zeros((len(simple_example_obs_set), T))\n",
    "#for idx,exp in enumerate(simple_example_obs_set):\n",
    "#    L = len(exp.metrics['training.mean_reward'])\n",
    "#    mean_reward_obs[idx,:L] = exp.metrics['training.mean_reward']\n",
    "\n",
    "#T = int(simple_example_int_set[0].config.epochs/50)\n",
    "#mean_reward_int = np.zeros((len(simple_example_int_set), T))\n",
    "#for idx,exp in enumerate(simple_example_int_set):\n",
    "#    L = len(exp.metrics['training.mean_reward'])\n",
    "#    mean_reward_int[idx,:L] = exp.metrics['training.mean_reward']\n",
    "   "
   ]
  },
  {
   "cell_type": "code",
   "execution_count": 16,
   "metadata": {},
   "outputs": [
    {
     "data": {
      "text/plain": [
       "99"
      ]
     },
     "execution_count": 16,
     "metadata": {},
     "output_type": "execute_result"
    }
   ],
   "source": [
    "T"
   ]
  },
  {
   "cell_type": "code",
   "execution_count": 18,
   "metadata": {},
   "outputs": [
    {
     "data": {
      "text/plain": [
       "Text(0.5, 1.0, 'Step lights task')"
      ]
     },
     "execution_count": 18,
     "metadata": {},
     "output_type": "execute_result"
    },
    {
     "data": {
      "image/png": "[encoded data removed]",
      "text/plain": [
       "<Figure size 432x288 with 1 Axes>"
      ]
     },
     "metadata": {
      "needs_background": "light"
     },
     "output_type": "display_data"
    }
   ],
   "source": [
    "expt_reward = steplights_set[-1].metrics['training.mean_reward']\n",
    "plt.plot(expt_reward)\n",
    "plt.title('Step lights task')"
   ]
  },
  {
   "cell_type": "markdown",
   "metadata": {
    "collapsed": true
   },
   "source": [
    "## Restart analysis.... by deleting experiments"
   ]
  },
  {
   "cell_type": "code",
   "execution_count": 28,
   "metadata": {},
   "outputs": [],
   "source": [
    "#exp = loader.find_by_id(2)\n",
    "#exp.delete()\n",
    "\n",
    "query = {\"$and\": [{\"config.name\": \"simple_example_obsint\",{\"config.dev\": False}}]}\n",
    "simple_example_obsint_set = loader.find(query)\n",
    "for exp in simple_example_obsint_set:\n",
    "    exp.delete(confirmed=True)\n",
    "\n",
    "query = {\"$and\": [{\"config.name\": \"simple_example_obs\"},{\"config.dev\": False}]}\n",
    "simple_example_obs_set = loader.find(query)\n",
    "for exp in simple_example_obs_set:\n",
    "    exp.delete(confirmed=True)\n",
    "\n",
    "query = {\"$and\": [{\"config.name\": \"simple_example_confounded\"}, {\"config.dev\": False}]}\n",
    "simple_example_confounded_set = loader.find(query)\n",
    "for exp in simple_example_confounded_set:\n",
    "    exp.delete(confirmed=True)\n",
    "\n",
    "query = {\"$and\": [{\"config.name\": \"simple_example_int\",{\"config.dev\": False}}]}\n",
    "simple_example_int_set = loader.find(query)\n",
    "for exp in simple_example_int_set:\n",
    "    exp.delete(confirmed=True)\n",
    "\n"
   ]
  },
  {
   "cell_type": "code",
   "execution_count": null,
   "metadata": {},
   "outputs": [],
   "source": []
  }
 ],
 "metadata": {
  "kernelspec": {
   "display_name": "Python 3",
   "language": "python",
   "name": "python3"
  },
  "language_info": {
   "codemirror_mode": {
    "name": "ipython",
    "version": 3
   },
   "file_extension": ".py",
   "mimetype": "text/x-python",
   "name": "python",
   "nbconvert_exporter": "python",
   "pygments_lexer": "ipython3",
   "version": "3.6.8"
  }
 },
 "nbformat": 4,
 "nbformat_minor": 2
}
